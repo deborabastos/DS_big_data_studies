{
 "cells": [
  {
   "attachments": {},
   "cell_type": "markdown",
   "metadata": {},
   "source": [
    "**Contador de Palavras Estática**"
   ]
  },
  {
   "cell_type": "code",
   "execution_count": 19,
   "metadata": {},
   "outputs": [],
   "source": [
    "#importa biblioteca\n",
    "from pyspark.sql import SparkSession"
   ]
  },
  {
   "cell_type": "code",
   "execution_count": 20,
   "metadata": {},
   "outputs": [],
   "source": [
    "#cria a seção a ser utilizada pelo spark\n",
    "spark = SparkSession\\\n",
    "        .builder\\\n",
    "        .appName('ContadorDePalavras')\\\n",
    "        .getOrCreate()\n"
   ]
  },
  {
   "cell_type": "code",
   "execution_count": 21,
   "metadata": {},
   "outputs": [],
   "source": [
    "#lê o arquivo de texto\n",
    "poem = spark\\\n",
    ".read\\\n",
    ".format(\"txt\")\\\n",
    ".option(\"inferSchema\", \"true\")\\\n",
    ".text(\"./data/arquivoTexto.txt\")"
   ]
  },
  {
   "cell_type": "code",
   "execution_count": 22,
   "metadata": {},
   "outputs": [
    {
     "name": "stdout",
     "output_type": "stream",
     "text": [
      "root\n",
      " |-- value: string (nullable = true)\n",
      "\n"
     ]
    }
   ],
   "source": [
    "#print do esquema do arquivo lido\n",
    "poem.printSchema()"
   ]
  },
  {
   "cell_type": "code",
   "execution_count": 23,
   "metadata": {},
   "outputs": [
    {
     "data": {
      "text/plain": [
       "False"
      ]
     },
     "execution_count": 23,
     "metadata": {},
     "output_type": "execute_result"
    }
   ],
   "source": [
    "#verifica se é um streaming\n",
    "poem.isStreaming"
   ]
  },
  {
   "cell_type": "code",
   "execution_count": 24,
   "metadata": {},
   "outputs": [],
   "source": [
    "#Define as bibliotecas a serem utilizadas\n",
    "from pyspark.sql.functions import explode  #separa os elementos de uma linha em multiplas linhas\n",
    "from pyspark.sql.functions import split  #divide as linhas"
   ]
  },
  {
   "cell_type": "code",
   "execution_count": 25,
   "metadata": {},
   "outputs": [],
   "source": [
    "# Divide as linhas do arquivo\n",
    "words = poem.select(explode(split(poem.value, \" \")).alias(\"word\"))"
   ]
  },
  {
   "cell_type": "code",
   "execution_count": 26,
   "metadata": {},
   "outputs": [
    {
     "name": "stdout",
     "output_type": "stream",
     "text": [
      "+-------+\n",
      "|   word|\n",
      "+-------+\n",
      "|     No|\n",
      "|   meio|\n",
      "|     do|\n",
      "|caminho|\n",
      "|  tinha|\n",
      "+-------+\n",
      "only showing top 5 rows\n",
      "\n"
     ]
    }
   ],
   "source": [
    "words.show(5)"
   ]
  },
  {
   "cell_type": "code",
   "execution_count": 27,
   "metadata": {},
   "outputs": [
    {
     "name": "stdout",
     "output_type": "stream",
     "text": [
      "+----------+-----+\n",
      "|      word|count|\n",
      "+----------+-----+\n",
      "|    minhas|    1|\n",
      "|      vida|    1|\n",
      "|esquecerei|    2|\n",
      "|   caminho|    6|\n",
      "|       tão|    1|\n",
      "|      meio|    6|\n",
      "|    pedra.|    2|\n",
      "|     pedra|    5|\n",
      "|        me|    2|\n",
      "|        de|    1|\n",
      "|     tinha|    7|\n",
      "|     Nunca|    2|\n",
      "|       que|    1|\n",
      "|        No|    1|\n",
      "|   retinas|    1|\n",
      "|        do|    6|\n",
      "|       uma|    7|\n",
      "|        no|    5|\n",
      "|fatigadas.|    1|\n",
      "|          |    1|\n",
      "+----------+-----+\n",
      "only showing top 20 rows\n",
      "\n"
     ]
    }
   ],
   "source": [
    "#realiza o \"plot\" das palavras\n",
    "wordCounts.show()"
   ]
  },
  {
   "cell_type": "code",
   "execution_count": null,
   "metadata": {},
   "outputs": [],
   "source": []
  }
 ],
 "metadata": {
  "kernelspec": {
   "display_name": "Python 3",
   "language": "python",
   "name": "python3"
  },
  "language_info": {
   "codemirror_mode": {
    "name": "ipython",
    "version": 3
   },
   "file_extension": ".py",
   "mimetype": "text/x-python",
   "name": "python",
   "nbconvert_exporter": "python",
   "pygments_lexer": "ipython3",
   "version": "3.10.3"
  },
  "vscode": {
   "interpreter": {
    "hash": "98590ff4fe04c8543246b2a01debd3de3c5ca9b666f43f1fa87d5110c692004c"
   }
  }
 },
 "nbformat": 4,
 "nbformat_minor": 2
}
