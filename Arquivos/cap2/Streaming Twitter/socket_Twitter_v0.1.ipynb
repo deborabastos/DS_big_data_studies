{
 "cells": [
  {
   "cell_type": "markdown",
   "metadata": {},
   "source": [
    "**Programa Para o Twitter***"
   ]
  },
  {
   "cell_type": "code",
   "execution_count": null,
   "metadata": {},
   "outputs": [],
   "source": [
    "#cria a seção a ser utiliza para estabelecer a conexão \n",
    "from pyspark.sql import SparkSession\n",
    "from pyspark.sql.functions import explode\n",
    "from pyspark.sql.functions import split\n",
    "\n",
    "spark = SparkSession \\\n",
    "    .builder \\\n",
    "    .appName(\"StructuredNetworkTwitterV02\") \\\n",
    "    .getOrCreate()"
   ]
  },
  {
   "cell_type": "code",
   "execution_count": null,
   "metadata": {},
   "outputs": [],
   "source": [
    "#bibliotecas utilizadas para realizar a análise dos textos\n",
    "from textblob import TextBlob  #utilizada para realizar o processamento do texto e análise de sentimento\n",
    "# import translators as Translator #utilizado para traduzir textos \n",
    "from unidecode import unidecode  #utilizada para \"decodificar caracteres\" não textuais"
   ]
  },
  {
   "cell_type": "code",
   "execution_count": null,
   "metadata": {},
   "outputs": [],
   "source": [
    "#cria o dataframe que será responsável por ler cada uma das linhas recebidas através do localhost e porta 9999\n",
    "# define a fonte (source) de dados\n",
    "twitters = spark \\\n",
    "    .readStream \\\n",
    "    .format(\"socket\") \\\n",
    "    .option(\"host\", \"localhost\") \\\n",
    "    .option(\"port\", 9995) \\\n",
    "    .load()"
   ]
  },
  {
   "cell_type": "code",
   "execution_count": null,
   "metadata": {},
   "outputs": [],
   "source": [
    "from pyspark.sql.functions import col, udf\n",
    "from pyspark.sql.types import StringType, FloatType"
   ]
  },
  {
   "cell_type": "code",
   "execution_count": null,
   "metadata": {},
   "outputs": [],
   "source": [
    "#função para realizar a tradução para o inglês \n",
    "# def translate_udf(col):\n",
    "#     trans_obj=Translator().translate(col)\n",
    "#     return trans_obj.text\n",
    "\n",
    "#função para realizar a análise de sentimento\n",
    "def sentiment_udf(col):\n",
    "    sentiment_text=TextBlob(col)\n",
    "    return sentiment_text.polarity\n"
   ]
  },
  {
   "cell_type": "code",
   "execution_count": null,
   "metadata": {},
   "outputs": [],
   "source": [
    "# translator = Translator()\n",
    "# translator.translate(\"Boa noite\")\n"
   ]
  },
  {
   "cell_type": "code",
   "execution_count": null,
   "metadata": {},
   "outputs": [],
   "source": [
    "#definição das função como User-Defined-Function\n",
    "unicode_udf_string = udf(lambda z: unidecode(z), StringType()) #define a função de decode para ser utilizada no dataframe\n",
    "group_by_sentiment = udf(lambda x: 'negativo' if x < -0.1 else 'positivo' if x > 0.1 else 'neutro',StringType())\n",
    "# translate_udf_string = udf(translate_udf, StringType()) #define a função de tradução\n",
    "sentiment_udf_float = udf(sentiment_udf, FloatType()) #define a função de tradução\n"
   ]
  },
  {
   "cell_type": "code",
   "execution_count": null,
   "metadata": {},
   "outputs": [],
   "source": [
    "teste=\"Eu ♥ o meu cachorro, ele e o meu melhor amigo\"\n",
    "decode=unidecode(teste)\n",
    "print(decode)\n",
    "# decodeEN=Translator().translate(decode)\n",
    "# print(decodeEN.text)\n",
    "a=str(decode)\n",
    "sentiment = TextBlob(a)\n",
    "print(sentiment.polarity)"
   ]
  },
  {
   "cell_type": "code",
   "execution_count": null,
   "metadata": {},
   "outputs": [],
   "source": [
    "#Aplica as funções udf para a seleção de colunas\n",
    "twitters_unicode=twitters.select( \"value\",unicode_udf_string(twitters.value).alias(\"unicoded\")) #decodifica\n",
    "# twitters_uni_trans=twitters_unicode.select( \"value\",\"unicoded\",\n",
    "#                                            translate_udf_string(col(\"unicoded\")).alias(\"twitter_EN\")) #traduz\n",
    "\n",
    "twitters_unicode.printSchema()\n",
    "\n",
    "twitters_uni_trans_sent=twitters_unicode.select(\"value\", \"unicoded\", sentiment_udf_float(col(\"value\")).alias(\"analise\"))#análise de sentimento\n",
    "t_sent_label= twitters_uni_trans_sent.select(\"value\",\"unicoded\", \"analise\", group_by_sentiment(col(\"analise\")).alias(\"classificacao\"))"
   ]
  },
  {
   "cell_type": "code",
   "execution_count": null,
   "metadata": {},
   "outputs": [],
   "source": [
    "t_sent_count = t_sent_label.groupBy(\"classificacao\").count() "
   ]
  },
  {
   "cell_type": "code",
   "execution_count": null,
   "metadata": {},
   "outputs": [
    {
     "name": "stdout",
     "output_type": "stream",
     "text": [
      "22/12/30 03:22:01 WARN HeartbeatReceiver: Removing executor driver with no recent heartbeats: 1007751 ms exceeds timeout 120000 ms\n",
      "22/12/30 03:22:01 WARN SparkContext: Killing executors is not supported by current scheduler.\n"
     ]
    }
   ],
   "source": [
    "# Define a consulta (query) e como deve ser realizada a saída (sink) para o stream criado \n",
    "query = t_sent_count \\\n",
    "    .writeStream \\\n",
    "    .outputMode(\"update\") \\\n",
    "    .format(\"console\") \\\n",
    "    .start()\n",
    "\n",
    "\n",
    "query.awaitTermination() #aguarda até que a \"streaming query\" termine "
   ]
  },
  {
   "cell_type": "code",
   "execution_count": null,
   "metadata": {},
   "outputs": [],
   "source": []
  }
 ],
 "metadata": {
  "kernelspec": {
   "display_name": "Python 3",
   "language": "python",
   "name": "python3"
  },
  "language_info": {
   "codemirror_mode": {
    "name": "ipython",
    "version": 3
   },
   "file_extension": ".py",
   "mimetype": "text/x-python",
   "name": "python",
   "nbconvert_exporter": "python",
   "pygments_lexer": "ipython3",
   "version": "3.10.3"
  },
  "vscode": {
   "interpreter": {
    "hash": "98590ff4fe04c8543246b2a01debd3de3c5ca9b666f43f1fa87d5110c692004c"
   }
  }
 },
 "nbformat": 4,
 "nbformat_minor": 2
}
